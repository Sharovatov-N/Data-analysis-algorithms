{
 "cells": [
  {
   "cell_type": "markdown",
   "metadata": {},
   "source": [
    "## Урок 2. Масштабирование признаков. L1- и L2-регуляризация. Стохастический градиентный спуск"
   ]
  },
  {
   "cell_type": "code",
   "execution_count": 1,
   "metadata": {},
   "outputs": [],
   "source": [
    "import numpy as np\n",
    "from sklearn import datasets\n",
    "import matplotlib\n",
    "import matplotlib.pyplot as plt\n",
    "%matplotlib inline"
   ]
  },
  {
   "cell_type": "markdown",
   "metadata": {},
   "source": [
    "### Задание1"
   ]
  },
  {
   "cell_type": "markdown",
   "metadata": {},
   "source": [
    "#### Модифицировать реализацию линейной регрессии из предыдущего урока, добавив l2 регулярязационную поправку к штрафной функции: +𝑐∗∑(𝑤_j)^2 и соответствующую к выражению для производной. Опробовать реализацию на примере с полиномиальными фичами 6го порядка из данного урока. При каком значении С в воспроизводимой функции не будет воспроизводить несуществующий минимум в окрестностях x=7,5?"
   ]
  },
  {
   "cell_type": "code",
   "execution_count": 2,
   "metadata": {},
   "outputs": [],
   "source": [
    "# Возьмем 2 признака и 1000 объектов\n",
    "n_features = 2\n",
    "n_objects = 1000\n",
    "\n",
    "# сгенерируем вектор истинных весов\n",
    "w_true = np.random.normal(size=(n_features, ))\n",
    "\n",
    "# сгенерируем матрицу X, вычислим Y с добавлением случайного шума\n",
    "X = np.random.uniform(-7, 7, (n_objects, n_features))\n",
    "Y = X.dot(w_true) + np.random.normal(0, 0.5, size=(n_objects))\n",
    "\n",
    "# возьмем нулевые начальные веса\n",
    "w = np.zeros(n_features)"
   ]
  },
  {
   "cell_type": "code",
   "execution_count": 3,
   "metadata": {},
   "outputs": [
    {
     "name": "stdout",
     "output_type": "stream",
     "text": [
      "В случае использования нормального уравнения функционал ошибки составляет 0.3965\n"
     ]
    }
   ],
   "source": [
    "# реализуем функцию, определяющую среднеквадратичную ошибку\n",
    "def mserror(X, w, y_pred, c=0.1):\n",
    "    y = X.dot(w)\n",
    "    return (sum((y - y_pred)**2)) / len(y) + c * w.dot(w.T)\n",
    "def normal_equation(X, y):\n",
    "    return np.linalg.solve((X.T).dot(X), (X.T).dot(y))\n",
    "\n",
    "normal_eq_w = normal_equation(X, Y)\n",
    "print(f'В случае использования нормального уравнения функционал ошибки составляет {round(mserror(X, normal_eq_w, Y), 4)}')"
   ]
  },
  {
   "cell_type": "code",
   "execution_count": 4,
   "metadata": {},
   "outputs": [
    {
     "name": "stdout",
     "output_type": "stream",
     "text": [
      "10.526395151973162\n",
      "4.940490911464297\n",
      "2.4455915499547345\n",
      "1.3272258906779946\n",
      "0.8234568216599157\n",
      "0.5950185982730518\n",
      "0.4904816266675419\n",
      "0.44204365433727083\n",
      "0.41921952465460977\n",
      "0.4082250304727571\n",
      "0.4027793021483382\n",
      "0.3999901223488272\n",
      "0.3985065296370891\n",
      "0.39768538491214345\n",
      "0.3972129184404286\n",
      "0.3969313438819202\n",
      "0.3967584558280173\n",
      "0.39664973483014676\n",
      "0.39658010215509376\n",
      "0.3965348951635925\n",
      "0.3965052559946548\n",
      "0.39648568676471224\n",
      "0.3964727017421791\n",
      "0.3964640551588156\n",
      "0.39645828297094543\n",
      "0.3964544226153255\n",
      "0.39645183739811357\n",
      "0.39645010436265415\n",
      "0.3964489416788366\n",
      "0.3964481611416613\n",
      "0.3964476368675339\n",
      "0.39644728455708667\n",
      "0.39644704770676575\n",
      "0.3964468884164176\n",
      "0.39644678124917043\n",
      "0.396446709124321\n",
      "0.3964466605671806\n",
      "0.3964466278660278\n",
      "0.39644660583614644\n",
      "0.39644659099052926\n",
      "0.39644658098316393\n",
      "0.3964465742351647\n",
      "0.3964465696835777\n",
      "0.396446566612563\n",
      "0.3964465645398892\n",
      "0.3964465631405961\n"
     ]
    }
   ],
   "source": [
    "# список векторов весов после каждой итерации\n",
    "w_list = [w.copy()]\n",
    "\n",
    "# список значений ошибок после каждой итерации\n",
    "errors = []\n",
    "\n",
    "# шаг градиентного спуска\n",
    "alpha = 0.01\n",
    "\n",
    "# максимальное число итераций\n",
    "max_iter = 1e4\n",
    "\n",
    "# критерий сходимости (разница весов, при которой алгоритм останавливается)\n",
    "min_weight_dist = 1e-8\n",
    "\n",
    "# зададим начальную разницу весов большим числом\n",
    "weight_dist = np.inf\n",
    "\n",
    "# счетчик итераций\n",
    "iter_num = 0\n",
    "def grad(_x, _w, _y, c):\n",
    "    return np.dot(_x.T, (np.dot(_x, _w) - _y)) / _y.shape[0] + 2 * c * w\n",
    "\n",
    "# ход градиентного спуска\n",
    "while weight_dist > min_weight_dist and iter_num < max_iter:\n",
    "    new_w = w -  alpha * 2 * grad(X, w, Y, 0.1)\n",
    "    weight_dist = np.linalg.norm(new_w - w, ord=2)\n",
    "    \n",
    "    w_list.append(new_w.copy())\n",
    "    cur_error=mserror(X, new_w, Y, 0.1)\n",
    "    print(cur_error)\n",
    "    errors.append(cur_error)\n",
    "    \n",
    "    iter_num += 1\n",
    "    w = new_w\n",
    "    \n",
    "w_list = np.array(w_list)"
   ]
  },
  {
   "cell_type": "code",
   "execution_count": 5,
   "metadata": {},
   "outputs": [
    {
     "data": {
      "image/png": "[encoded data removed]",
      "text/plain": [
       "<Figure size 936x432 with 1 Axes>"
      ]
     },
     "metadata": {
      "needs_background": "light"
     },
     "output_type": "display_data"
    }
   ],
   "source": [
    "# Визуализируем изменение весов (красной точкой обозначены истинные веса, сгенерированные вначале)\n",
    "plt.figure(figsize=(13, 6))\n",
    "plt.title('Gradient descent')\n",
    "plt.xlabel(r'$w_1$')\n",
    "plt.ylabel(r'$w_2$')\n",
    "\n",
    "plt.scatter(w_list[:, 0], w_list[:, 1])\n",
    "plt.scatter(w_true[0], w_true[1], c='r')\n",
    "plt.plot(w_list[:, 0], w_list[:, 1])\n",
    "\n",
    "plt.show()"
   ]
  },
  {
   "cell_type": "code",
   "execution_count": 6,
   "metadata": {},
   "outputs": [
    {
     "data": {
      "text/plain": [
       "Text(0, 0.5, 'MSE')"
      ]
     },
     "execution_count": 6,
     "metadata": {},
     "output_type": "execute_result"
    },
    {
     "data": {
      "image/png": "[encoded data removed]",
      "text/plain": [
       "<Figure size 432x288 with 1 Axes>"
      ]
     },
     "metadata": {
      "needs_background": "light"
     },
     "output_type": "display_data"
    }
   ],
   "source": [
    "# Визуализируем изменение функционала ошибки\n",
    "plt.plot(np.arange(len(errors)), errors)\n",
    "plt.title('MSE')\n",
    "plt.xlabel('Iteration number')\n",
    "plt.ylabel('MSE')"
   ]
  },
  {
   "cell_type": "code",
   "execution_count": 7,
   "metadata": {},
   "outputs": [
    {
     "data": {
      "text/plain": [
       "Text(0, 0.5, 'log(MSE)')"
      ]
     },
     "execution_count": 7,
     "metadata": {},
     "output_type": "execute_result"
    },
    {
     "data": {
      "image/png": "[encoded data removed]",
      "text/plain": [
       "<Figure size 432x288 with 1 Axes>"
      ]
     },
     "metadata": {
      "needs_background": "light"
     },
     "output_type": "display_data"
    }
   ],
   "source": [
    "# Визуализируем изменение функционала ошибки\n",
    "plt.plot(np.arange(len(errors)), np.log(np.array(errors)))\n",
    "plt.title('Log(MSE)')\n",
    "plt.xlabel('Iteration number')\n",
    "plt.ylabel('log(MSE)')"
   ]
  },
  {
   "cell_type": "markdown",
   "metadata": {},
   "source": [
    "### Задание2"
   ]
  },
  {
   "cell_type": "markdown",
   "metadata": {},
   "source": [
    "#### Модифицировать пример со стохастическим градиентом из этого урока, реализовав в нём рассчёт градиента по десяти случайно выбираемым объектам (mini-batch градиент)."
   ]
  },
  {
   "cell_type": "code",
   "execution_count": 8,
   "metadata": {},
   "outputs": [],
   "source": [
    "# сгенерируем набор данных\n",
    "data, target, coef = datasets.make_regression(n_samples=1000, n_features = 2, n_informative = 2, n_targets = 1, \n",
    "                                              noise = 5, coef = True, random_state = 2)"
   ]
  },
  {
   "cell_type": "code",
   "execution_count": 9,
   "metadata": {},
   "outputs": [],
   "source": [
    "# Получим средние значения и стандартное отклонение по столбцам\n",
    "\n",
    "means = np.mean(data, axis=0)\n",
    "stds = np.std(data, axis=0)\n",
    "# параметр axis указывается для вычисления значений по столбцам, а не по всему массиву\n",
    "#(см. документацию в разделе источников)\n",
    "\n",
    "# вычтем каждое значение признака из среднего и поделим на стандартное отклонение\n",
    "for i in range(data.shape[0]):\n",
    "    for j in range(data.shape[1]):\n",
    "        data[i][j] = (data[i][j] - means[j])/stds[j]"
   ]
  },
  {
   "cell_type": "code",
   "execution_count": 10,
   "metadata": {},
   "outputs": [],
   "source": [
    "# реализуем функцию, определяющую среднеквадратичную ошибку\n",
    "def mserror(X, w, y_pred):\n",
    "    y = X.dot(w)\n",
    "    return (sum((y - y_pred)**2)) / len(y)"
   ]
  },
  {
   "cell_type": "code",
   "execution_count": 11,
   "metadata": {},
   "outputs": [
    {
     "name": "stdout",
     "output_type": "stream",
     "text": [
      "8188.141355904686\n",
      "5521.484450864691\n",
      "3728.2437215955943\n",
      "2500.589781988877\n",
      "1691.0981805081678\n",
      "1152.8828921189306\n",
      "787.1365432447\n",
      "543.8486159200147\n",
      "378.9864631511353\n",
      "268.3730172952478\n",
      "193.75146798313526\n",
      "143.6075133652156\n",
      "109.91286928629808\n",
      "87.2932921898281\n",
      "71.55225583295787\n",
      "60.7986522237015\n",
      "53.743351771934634\n",
      "48.93940818352659\n",
      "45.58566543225795\n",
      "43.398114168124756\n",
      "41.79801740610138\n",
      "40.7481198684044\n",
      "40.02991484250265\n",
      "39.55557541316949\n",
      "39.268233143818094\n",
      "39.05361280518062\n",
      "38.89302235785272\n",
      "38.781672055551205\n",
      "38.71317668950622\n",
      "38.66482497960276\n",
      "38.625382696606685\n",
      "38.608175589673024\n",
      "38.590133834247546\n",
      "38.58453613926249\n",
      "38.57700096578504\n",
      "38.577170570094914\n",
      "38.57274787710808\n",
      "38.570938241734886\n",
      "38.56974929752296\n",
      "38.5700674903529\n",
      "38.56933559918379\n",
      "38.56881855996878\n",
      "38.5686495501416\n",
      "38.56879189190044\n",
      "38.56930083358968\n",
      "38.56973627132135\n",
      "38.57137061323526\n",
      "38.570604827078135\n",
      "38.57076927663319\n",
      "38.56934772643747\n",
      "38.568471430689925\n",
      "38.568906664317865\n",
      "38.56897195419231\n",
      "38.56915144174528\n",
      "38.568712357841704\n",
      "38.56861565599072\n",
      "38.568857551346674\n",
      "38.56834416875658\n",
      "38.56839260352439\n",
      "38.568315655593544\n",
      "38.56851677361605\n",
      "38.56827348466526\n",
      "38.56833207028916\n",
      "38.56831613909021\n",
      "38.569209939235265\n",
      "38.56918183553465\n",
      "38.57039760400852\n",
      "38.56936379557351\n",
      "38.56842988249402\n",
      "38.56845514780778\n",
      "38.56844430393274\n",
      "38.56834999849876\n",
      "38.56856745971319\n",
      "38.56841742005924\n",
      "38.568770403394765\n",
      "38.570227384224275\n",
      "38.57008980075585\n",
      "38.57016851958552\n",
      "38.56976659665597\n",
      "38.5696307846613\n",
      "38.57095323995983\n",
      "38.571039124681356\n",
      "38.5692760031636\n",
      "38.56949352894737\n",
      "38.56907583584327\n",
      "38.56848749616477\n",
      "38.56889845632561\n",
      "38.56888212424356\n",
      "38.56843303667203\n",
      "38.5688235746137\n",
      "38.568550985215\n",
      "38.569113320514475\n",
      "38.5686969488182\n",
      "38.56850743776065\n",
      "38.56881246349812\n",
      "38.56826405969866\n",
      "38.568410061843124\n",
      "38.5688798291397\n",
      "38.56834282851084\n",
      "38.568747035870985\n",
      "В случае использования стохастического градиентного спуска функционал ошибки составляет 38.569\n"
     ]
    }
   ],
   "source": [
    "# инициализируем начальный вектор весов\n",
    "w = np.zeros(2)\n",
    "\n",
    "# список векторов весов после каждой итерации\n",
    "w_list = [w.copy()]\n",
    "\n",
    "# список значений ошибок после каждой итерации\n",
    "errors = []\n",
    "\n",
    "# шаг градиентного спуска\n",
    "eta = 0.01\n",
    "\n",
    "# максимальное число итераций\n",
    "max_iter = 1e5\n",
    "\n",
    "# критерий сходимости (разница весов, при которой алгоритм останавливается)\n",
    "min_weight_dist = 1e-8\n",
    "\n",
    "# зададим начальную разницу весов большим числом\n",
    "weight_dist = np.inf\n",
    "\n",
    "# счетчик итераций\n",
    "iter_num = 0\n",
    "\n",
    "np.random.seed(1234)\n",
    "\n",
    "# ход градиентного спуска\n",
    "while weight_dist > min_weight_dist and iter_num < max_iter:\n",
    "    \n",
    "    # генерируем случайный индекс объекта выборки\n",
    "    train_ind = np.random.randint(data.shape[0], size = 10)\n",
    "    #print(train_ind)\n",
    "    \n",
    "    new_w = w - 2 * eta * np.dot(data[train_ind].T, (np.dot(data[train_ind], w) - target[train_ind])) / target.shape[0]\n",
    "\n",
    "    weight_dist = np.linalg.norm(new_w - w, ord=2)\n",
    "    \n",
    "    w_list.append(new_w.copy())\n",
    "    error=mserror(data, new_w, target)\n",
    "    errors.append(error)\n",
    "    if iter_num %1000==0:\n",
    "        print(error)\n",
    "    \n",
    "    iter_num += 1\n",
    "    w = new_w\n",
    "    \n",
    "w_list = np.array(w_list)\n",
    "\n",
    "print(f'В случае использования стохастического градиентного спуска функционал ошибки составляет {round(errors[-1], 4)}')"
   ]
  },
  {
   "cell_type": "code",
   "execution_count": null,
   "metadata": {},
   "outputs": [],
   "source": []
  }
 ],
 "metadata": {
  "kernelspec": {
   "display_name": "Python 3",
   "language": "python",
   "name": "python3"
  },
  "language_info": {
   "codemirror_mode": {
    "name": "ipython",
    "version": 3
   },
   "file_extension": ".py",
   "mimetype": "text/x-python",
   "name": "python",
   "nbconvert_exporter": "python",
   "pygments_lexer": "ipython3",
   "version": "3.8.3"
  }
 },
 "nbformat": 4,
 "nbformat_minor": 4
}
